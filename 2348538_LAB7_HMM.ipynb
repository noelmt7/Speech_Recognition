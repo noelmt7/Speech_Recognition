{
 "cells": [
  {
   "cell_type": "code",
   "execution_count": 9,
   "metadata": {},
   "outputs": [],
   "source": [
    "import numpy as np \n",
    "import random \n",
    "import matplotlib.pyplot as plt\n",
    "import seaborn as sns"
   ]
  },
  {
   "cell_type": "code",
   "execution_count": 3,
   "metadata": {},
   "outputs": [],
   "source": [
    "# Define HMM parameters\n",
    "initial_probabilities = {\"/s/\": 1.0, \"/p/\": 0.0, \"/ie:/\": 0.0, \"/tS/\": 0.0}\n",
    "\n",
    "transition_probabilities = {\n",
    "    \"/s/\": {\"/s/\": 0.1, \"/p/\": 0.8, \"/ie:/\": 0.1, \"/tS/\": 0.0},\n",
    "    \"/p/\": {\"/s/\": 0.0, \"/p/\": 0.1, \"/ie:/\": 0.8, \"/tS/\": 0.1},\n",
    "    \"/ie:/\": {\"/s/\": 0.0, \"/p/\": 0.0, \"/ie:/\": 0.2, \"/tS/\": 0.8},\n",
    "    \"/tS/\": {\"/s/\": 0.2, \"/p/\": 0.0, \"/ie:/\": 0.0, \"/tS/\": 0.8},\n",
    "}\n",
    "\n",
    "emission_probabilities = {\n",
    "    \"/s/\": {\"Energy\": 0.7, \"Pitch\": 0.2, \"Duration\": 0.1},\n",
    "    \"/p/\": {\"Energy\": 0.5, \"Pitch\": 0.3, \"Duration\": 0.2},\n",
    "    \"/ie:/\": {\"Energy\": 0.3, \"Pitch\": 0.5, \"Duration\": 0.2},\n",
    "    \"/tS/\": {\"Energy\": 0.4, \"Pitch\": 0.4, \"Duration\": 0.2},\n",
    "}"
   ]
  },
  {
   "cell_type": "code",
   "execution_count": 4,
   "metadata": {},
   "outputs": [],
   "source": [
    "def display_hmm_parameters():\n",
    "    print(\"Initial Probabilities:\")\n",
    "    for state, prob in initial_probabilities.items():\n",
    "        print(f\"{state}: {prob}\")\n",
    "    \n",
    "    print(\"\\nTransition Probabilities:\")\n",
    "    for from_state, to_states in transition_probabilities.items():\n",
    "        print(f\"{from_state}: {to_states}\")\n",
    "    \n",
    "    print(\"\\nEmission Probabilities:\")\n",
    "    for state, emissions in emission_probabilities.items():\n",
    "        print(f\"{state}: {emissions}\")"
   ]
  },
  {
   "cell_type": "code",
   "execution_count": 5,
   "metadata": {},
   "outputs": [],
   "source": [
    "def generate_sequence():\n",
    "    phonemes = list(initial_probabilities.keys())\n",
    "    sequence = []\n",
    "    observations = []\n",
    "\n",
    "    current_state = np.random.choice(phonemes, p = [initial_probabilities[p] for p in phonemes])\n",
    "    sequence.append(current_state)\n",
    "\n",
    "    for _ in range(len(phonemes) - 1):\n",
    "        probabilities  = [transition_probabilities[current_state][next_state] for next_state in phonemes]\n",
    "        current_state = np.random.choice(phonemes, p = probabilities)\n",
    "        sequence.append(current_state)\n",
    "\n",
    "    for state in sequence:\n",
    "        observations.append(np.random.choice(['Energy', 'Pitch', 'Duration'], p = list(emission_probabilities[state].values())))\n",
    "    \n",
    "    return sequence, observations"
   ]
  },
  {
   "cell_type": "code",
   "execution_count": 10,
   "metadata": {},
   "outputs": [],
   "source": [
    "def plot_transition_matrix():\n",
    "    phonemes = list(initial_probabilities.keys())\n",
    "    matrix = np.array([[transition_probabilities[from_state][to_state] for to_state in phonemes] for from_state in phonemes])\n",
    "    plt.figure(figsize=(8, 6))\n",
    "    sns.heatmap(matrix, annot=True, cmap=\"Blues\", xticklabels=phonemes, yticklabels=phonemes)\n",
    "    plt.title(\"State Transition Probabilities\")\n",
    "    plt.xlabel(\"To State\")\n",
    "    plt.ylabel(\"From State\")\n",
    "    plt.show()"
   ]
  },
  {
   "cell_type": "code",
   "execution_count": 11,
   "metadata": {},
   "outputs": [],
   "source": [
    "def plot_emission_probabilities():\n",
    "    for phoneme, emissions in emission_probabilities.items():\n",
    "        observations = list(emissions.keys())\n",
    "        probabilities = list(emissions.values())\n",
    "        plt.figure()\n",
    "        plt.bar(observations, probabilities, color='skyblue')\n",
    "        plt.title(f\"Emission Probabilities for {phoneme}\")\n",
    "        plt.xlabel(\"Observations\")\n",
    "        plt.ylabel(\"Probability\")\n",
    "        plt.ylim(0, 1)\n",
    "        plt.show()"
   ]
  },
  {
   "cell_type": "code",
   "execution_count": 12,
   "metadata": {},
   "outputs": [],
   "source": [
    "def plot_generated_sequence(sequence):\n",
    "    plt.figure(figsize=(10, 2))\n",
    "    plt.plot(sequence, marker=\"o\", linestyle=\"-\", color=\"blue\")\n",
    "    plt.title(\"Generated Phoneme Sequence\")\n",
    "    plt.xlabel(\"Step\")\n",
    "    plt.ylabel(\"Phoneme\")\n",
    "    plt.grid(True)\n",
    "    plt.show()"
   ]
  },
  {
   "cell_type": "code",
   "execution_count": 6,
   "metadata": {},
   "outputs": [
    {
     "name": "stdout",
     "output_type": "stream",
     "text": [
      "Initial Probabilities:\n",
      "/s/: 1.0\n",
      "/p/: 0.0\n",
      "/ie:/: 0.0\n",
      "/tS/: 0.0\n",
      "\n",
      "Transition Probabilities:\n",
      "/s/: {'/s/': 0.1, '/p/': 0.8, '/ie:/': 0.1, '/tS/': 0.0}\n",
      "/p/: {'/s/': 0.0, '/p/': 0.1, '/ie:/': 0.8, '/tS/': 0.1}\n",
      "/ie:/: {'/s/': 0.0, '/p/': 0.0, '/ie:/': 0.2, '/tS/': 0.8}\n",
      "/tS/: {'/s/': 0.2, '/p/': 0.0, '/ie:/': 0.0, '/tS/': 0.8}\n",
      "\n",
      "Emission Probabilities:\n",
      "/s/: {'Energy': 0.7, 'Pitch': 0.2, 'Duration': 0.1}\n",
      "/p/: {'Energy': 0.5, 'Pitch': 0.3, 'Duration': 0.2}\n",
      "/ie:/: {'Energy': 0.3, 'Pitch': 0.5, 'Duration': 0.2}\n",
      "/tS/: {'Energy': 0.4, 'Pitch': 0.4, 'Duration': 0.2}\n"
     ]
    }
   ],
   "source": [
    "display_hmm_parameters()"
   ]
  },
  {
   "cell_type": "code",
   "execution_count": 7,
   "metadata": {},
   "outputs": [],
   "source": [
    "phoneme_sequence, acoustic_observations = generate_sequence()"
   ]
  },
  {
   "cell_type": "code",
   "execution_count": 8,
   "metadata": {},
   "outputs": [
    {
     "name": "stdout",
     "output_type": "stream",
     "text": [
      "\n",
      "Generated Phoneme Sequence: ['/s/', '/p/', '/ie:/', '/tS/']\n",
      "Generated Acoustic Observations: ['Pitch', 'Energy', 'Pitch', 'Duration']\n"
     ]
    }
   ],
   "source": [
    "print(\"\\nGenerated Phoneme Sequence:\", phoneme_sequence)\n",
    "print(\"Generated Acoustic Observations:\", acoustic_observations)"
   ]
  },
  {
   "cell_type": "code",
   "execution_count": null,
   "metadata": {},
   "outputs": [],
   "source": []
  }
 ],
 "metadata": {
  "kernelspec": {
   "display_name": "Python 3",
   "language": "python",
   "name": "python3"
  },
  "language_info": {
   "codemirror_mode": {
    "name": "ipython",
    "version": 3
   },
   "file_extension": ".py",
   "mimetype": "text/x-python",
   "name": "python",
   "nbconvert_exporter": "python",
   "pygments_lexer": "ipython3",
   "version": "3.12.5"
  }
 },
 "nbformat": 4,
 "nbformat_minor": 2
}
