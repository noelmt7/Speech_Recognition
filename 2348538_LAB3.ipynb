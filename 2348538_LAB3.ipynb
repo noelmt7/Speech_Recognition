{
 "cells": [
  {
   "cell_type": "code",
   "execution_count": 6,
   "metadata": {},
   "outputs": [],
   "source": [
    "import speech_recognition as sr\n",
    "import pyaudio\n"
   ]
  },
  {
   "cell_type": "code",
   "execution_count": 7,
   "metadata": {},
   "outputs": [],
   "source": [
    "\n",
    "# Initialize recognizer\n",
    "recognizer = sr.Recognizer()"
   ]
  },
  {
   "cell_type": "code",
   "execution_count": 10,
   "metadata": {},
   "outputs": [
    {
     "name": "stdout",
     "output_type": "stream",
     "text": [
      "Speak something\n",
      "Listening for 5 seconds...\n",
      "Recognizing...\n",
      "Speech recognized: \"turn off the light\"\n",
      "Speech successfully converted to text!\n"
     ]
    }
   ],
   "source": [
    "def recognize_speech():\n",
    "    with sr.Microphone() as source:\n",
    "        print(\"Speak something\")\n",
    "        recognizer.adjust_for_ambient_noise(source)  \n",
    "        print(\"Listening for 5 seconds...\")\n",
    "\n",
    "        audio = recognizer.listen(source, timeout=5, phrase_time_limit=5)\n",
    "\n",
    "        try:\n",
    "            print(\"Recognizing...\")\n",
    "            recognized_text = recognizer.recognize_google(audio)\n",
    "            print(f'Speech recognized: \"{recognized_text}\"')\n",
    "            print(\"Speech successfully converted to text!\")\n",
    "\n",
    "        except sr.UnknownValueError:\n",
    "            print(\"Speech Recognition could not understand audio, Please try speaking more clearly\")\n",
    "\n",
    "        except sr.RequestError as e:\n",
    "            print(f\"Could not request results from Speech Recognition service; {e}\")\n",
    "\n",
    "recognize_speech()"
   ]
  }
 ],
 "metadata": {
  "kernelspec": {
   "display_name": ".venv",
   "language": "python",
   "name": "python3"
  },
  "language_info": {
   "codemirror_mode": {
    "name": "ipython",
    "version": 3
   },
   "file_extension": ".py",
   "mimetype": "text/x-python",
   "name": "python",
   "nbconvert_exporter": "python",
   "pygments_lexer": "ipython3",
   "version": "3.12.6"
  }
 },
 "nbformat": 4,
 "nbformat_minor": 2
}
